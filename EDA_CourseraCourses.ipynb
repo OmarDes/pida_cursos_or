{
 "cells": [
  {
   "cell_type": "code",
   "execution_count": 1,
   "metadata": {},
   "outputs": [
    {
     "data": {
      "text/html": [
       "<style>.container { width:100% !important; }</style>"
      ],
      "text/plain": [
       "<IPython.core.display.HTML object>"
      ]
     },
     "metadata": {},
     "output_type": "display_data"
    }
   ],
   "source": [
    "import matplotlib.pyplot as plt\n",
    "font = {'size'   : 14}\n",
    "import matplotlib\n",
    "matplotlib.rc('font', **font)\n",
    "import warnings\n",
    "warnings.filterwarnings('ignore')\n",
    "import numpy as np\n",
    "import pandas as pd\n",
    "import seaborn as sns\n",
    "from IPython.display import display, HTML\n",
    "display(HTML(\"<style>.container { width:100% !important; }</style>\"))"
   ]
  },
  {
   "attachments": {},
   "cell_type": "markdown",
   "metadata": {},
   "source": [
    "1. Lectura de datos dataset Coursera"
   ]
  },
  {
   "cell_type": "code",
   "execution_count": 2,
   "metadata": {},
   "outputs": [
    {
     "name": "stdout",
     "output_type": "stream",
     "text": [
      "<class 'pandas.core.frame.DataFrame'>\n",
      "RangeIndex: 623 entries, 0 to 622\n",
      "Data columns (total 4 columns):\n",
      " #   Column       Non-Null Count  Dtype \n",
      "---  ------       --------------  ----- \n",
      " 0   name         623 non-null    object\n",
      " 1   institution  623 non-null    object\n",
      " 2   course_url   623 non-null    object\n",
      " 3   course_id    623 non-null    object\n",
      "dtypes: object(4)\n",
      "memory usage: 19.6+ KB\n"
     ]
    },
    {
     "data": {
      "text/html": [
       "<div>\n",
       "<style scoped>\n",
       "    .dataframe tbody tr th:only-of-type {\n",
       "        vertical-align: middle;\n",
       "    }\n",
       "\n",
       "    .dataframe tbody tr th {\n",
       "        vertical-align: top;\n",
       "    }\n",
       "\n",
       "    .dataframe thead th {\n",
       "        text-align: right;\n",
       "    }\n",
       "</style>\n",
       "<table border=\"1\" class=\"dataframe\">\n",
       "  <thead>\n",
       "    <tr style=\"text-align: right;\">\n",
       "      <th></th>\n",
       "      <th>name</th>\n",
       "      <th>institution</th>\n",
       "      <th>course_url</th>\n",
       "      <th>course_id</th>\n",
       "    </tr>\n",
       "  </thead>\n",
       "  <tbody>\n",
       "    <tr>\n",
       "      <th>0</th>\n",
       "      <td>Machine Learning</td>\n",
       "      <td>Stanford University</td>\n",
       "      <td>https://www.coursera.org/learn/machine-learning</td>\n",
       "      <td>machine-learning</td>\n",
       "    </tr>\n",
       "    <tr>\n",
       "      <th>1</th>\n",
       "      <td>Indigenous Canada</td>\n",
       "      <td>University of Alberta</td>\n",
       "      <td>https://www.coursera.org/learn/indigenous-canada</td>\n",
       "      <td>indigenous-canada</td>\n",
       "    </tr>\n",
       "    <tr>\n",
       "      <th>2</th>\n",
       "      <td>The Science of Well-Being</td>\n",
       "      <td>Yale University</td>\n",
       "      <td>https://www.coursera.org/learn/the-science-of-...</td>\n",
       "      <td>the-science-of-well-being</td>\n",
       "    </tr>\n",
       "    <tr>\n",
       "      <th>3</th>\n",
       "      <td>Technical Support Fundamentals</td>\n",
       "      <td>Google</td>\n",
       "      <td>https://www.coursera.org/learn/technical-suppo...</td>\n",
       "      <td>technical-support-fundamentals</td>\n",
       "    </tr>\n",
       "  </tbody>\n",
       "</table>\n",
       "</div>"
      ],
      "text/plain": [
       "                             name            institution  \\\n",
       "0                Machine Learning    Stanford University   \n",
       "1               Indigenous Canada  University of Alberta   \n",
       "2       The Science of Well-Being        Yale University   \n",
       "3  Technical Support Fundamentals                 Google   \n",
       "\n",
       "                                          course_url  \\\n",
       "0    https://www.coursera.org/learn/machine-learning   \n",
       "1   https://www.coursera.org/learn/indigenous-canada   \n",
       "2  https://www.coursera.org/learn/the-science-of-...   \n",
       "3  https://www.coursera.org/learn/technical-suppo...   \n",
       "\n",
       "                        course_id  \n",
       "0                machine-learning  \n",
       "1               indigenous-canada  \n",
       "2       the-science-of-well-being  \n",
       "3  technical-support-fundamentals  "
      ]
     },
     "execution_count": 2,
     "metadata": {},
     "output_type": "execute_result"
    }
   ],
   "source": [
    "Coursera_Courses_df =pd.read_csv('Coursera_courses.csv') #Lectura dataset\n",
    "Coursera_Courses_df.info() #Cabecera dataset\n",
    "Coursera_Courses_df.head(4)"
   ]
  },
  {
   "cell_type": "code",
   "execution_count": 3,
   "metadata": {},
   "outputs": [
    {
     "data": {
      "text/plain": [
       "name                   More Introduction to Financial Accounting\n",
       "institution                           University of Pennsylvania\n",
       "course_url     https://www.coursera.org/learn/wharton-financi...\n",
       "course_id                           wharton-financial-accounting\n",
       "Name: 555, dtype: object"
      ]
     },
     "execution_count": 3,
     "metadata": {},
     "output_type": "execute_result"
    }
   ],
   "source": [
    "# Observacion de registro a azar\n",
    "Coursera_Courses_df.iloc[555]"
   ]
  },
  {
   "cell_type": "code",
   "execution_count": 4,
   "metadata": {},
   "outputs": [
    {
     "name": "stdout",
     "output_type": "stream",
     "text": [
      "Distinct values and their counts for 'institution' column:\n",
      "University of Pennsylvania       43\n",
      "University of Michigan           31\n",
      "Duke University                  24\n",
      "Google Cloud                     22\n",
      "IBM                              18\n",
      "                                 ..\n",
      "EDHEC Business School             1\n",
      "INSEAD                            1\n",
      "Google - Spectrum Sharing         1\n",
      "New York Institute of Finance     1\n",
      "UCL School of Management          1\n",
      "Name: institution, Length: 134, dtype: int64\n"
     ]
    }
   ],
   "source": [
    "distinct_institutions = Coursera_Courses_df['institution'].value_counts()\n",
    "print(\"Distinct values and their counts for 'institution' column:\")\n",
    "print(distinct_institutions)"
   ]
  },
  {
   "cell_type": "code",
   "execution_count": 5,
   "metadata": {},
   "outputs": [
    {
     "name": "stdout",
     "output_type": "stream",
     "text": [
      "\n",
      "Distinct values and their counts for 'course_id' column:\n",
      "machine-learning                             1\n",
      "english-composition                          1\n",
      "wharton-communication-skills                 1\n",
      "introduction-trading-machine-learning-gcp    1\n",
      "python-programming-introduction              1\n",
      "                                            ..\n",
      "solar-energy-basics                          1\n",
      "bootstrap-4                                  1\n",
      "google-cloud-java-spring                     1\n",
      "forensic-science                             1\n",
      "data-science-course                          1\n",
      "Name: course_id, Length: 623, dtype: int64\n"
     ]
    }
   ],
   "source": [
    "distinct_course_ids = Coursera_Courses_df['course_id'].value_counts()\n",
    "print(\"\\nDistinct values and their counts for 'course_id' column:\")\n",
    "print(distinct_course_ids)"
   ]
  },
  {
   "cell_type": "code",
   "execution_count": 6,
   "metadata": {},
   "outputs": [],
   "source": [
    "Coursera_Courses_df['institution'] = Coursera_Courses_df['institution'].astype('category')\n",
    "Coursera_Courses_df['course_id'] = Coursera_Courses_df['course_id'].astype('category')"
   ]
  },
  {
   "cell_type": "code",
   "execution_count": 7,
   "metadata": {},
   "outputs": [
    {
     "name": "stdout",
     "output_type": "stream",
     "text": [
      "<class 'pandas.core.frame.DataFrame'>\n",
      "RangeIndex: 623 entries, 0 to 622\n",
      "Data columns (total 4 columns):\n",
      " #   Column       Non-Null Count  Dtype   \n",
      "---  ------       --------------  -----   \n",
      " 0   name         623 non-null    object  \n",
      " 1   institution  623 non-null    category\n",
      " 2   course_url   623 non-null    object  \n",
      " 3   course_id    623 non-null    category\n",
      "dtypes: category(2), object(2)\n",
      "memory usage: 38.4+ KB\n"
     ]
    }
   ],
   "source": [
    "Coursera_Courses_df.info() #Cabecera dataset"
   ]
  },
  {
   "cell_type": "code",
   "execution_count": 8,
   "metadata": {},
   "outputs": [
    {
     "data": {
      "text/plain": [
       "<bound method NDFrame.describe of                                                   name  \\\n",
       "0                                     Machine Learning   \n",
       "1                                    Indigenous Canada   \n",
       "2                            The Science of Well-Being   \n",
       "3                       Technical Support Fundamentals   \n",
       "4    Become a CBRS Certified Professional Installer...   \n",
       "..                                                 ...   \n",
       "618              Accounting Data Analytics with Python   \n",
       "619             Introduction to Molecular Spectroscopy   \n",
       "620                                Managing as a Coach   \n",
       "621             The fundamentals of hotel distribution   \n",
       "622                     A Crash Course in Data Science   \n",
       "\n",
       "                                    institution  \\\n",
       "0                           Stanford University   \n",
       "1                         University of Alberta   \n",
       "2                               Yale University   \n",
       "3                                        Google   \n",
       "4                     Google - Spectrum Sharing   \n",
       "..                                          ...   \n",
       "618  University of Illinois at Urbana-Champaign   \n",
       "619                 University of Manchester      \n",
       "620             University of California, Davis   \n",
       "621                       ESSEC Business School   \n",
       "622                    Johns Hopkins University   \n",
       "\n",
       "                                            course_url  \\\n",
       "0      https://www.coursera.org/learn/machine-learning   \n",
       "1     https://www.coursera.org/learn/indigenous-canada   \n",
       "2    https://www.coursera.org/learn/the-science-of-...   \n",
       "3    https://www.coursera.org/learn/technical-suppo...   \n",
       "4    https://www.coursera.org/learn/google-cbrs-cpi...   \n",
       "..                                                 ...   \n",
       "618  https://www.coursera.org/learn/accounting-data...   \n",
       "619        https://www.coursera.org/learn/spectroscopy   \n",
       "620  https://www.coursera.org/learn/managing-as-a-c...   \n",
       "621  https://www.coursera.org/learn/hotel-distribution   \n",
       "622  https://www.coursera.org/learn/data-science-co...   \n",
       "\n",
       "                            course_id  \n",
       "0                    machine-learning  \n",
       "1                   indigenous-canada  \n",
       "2           the-science-of-well-being  \n",
       "3      technical-support-fundamentals  \n",
       "4            google-cbrs-cpi-training  \n",
       "..                                ...  \n",
       "618  accounting-data-analytics-python  \n",
       "619                      spectroscopy  \n",
       "620               managing-as-a-coach  \n",
       "621                hotel-distribution  \n",
       "622               data-science-course  \n",
       "\n",
       "[623 rows x 4 columns]>"
      ]
     },
     "execution_count": 8,
     "metadata": {},
     "output_type": "execute_result"
    }
   ],
   "source": [
    "Coursera_Courses_df.describe"
   ]
  },
  {
   "cell_type": "code",
   "execution_count": null,
   "metadata": {},
   "outputs": [],
   "source": []
  },
  {
   "cell_type": "code",
   "execution_count": null,
   "metadata": {},
   "outputs": [],
   "source": []
  },
  {
   "cell_type": "code",
   "execution_count": null,
   "metadata": {},
   "outputs": [],
   "source": [
    "Coursera_Courses_df.to_csv('Coursera_courses.csv', index=False) # se guarda archivo"
   ]
  }
 ],
 "metadata": {
  "kernelspec": {
   "display_name": "Python 3",
   "language": "python",
   "name": "python3"
  },
  "language_info": {
   "codemirror_mode": {
    "name": "ipython",
    "version": 3
   },
   "file_extension": ".py",
   "mimetype": "text/x-python",
   "name": "python",
   "nbconvert_exporter": "python",
   "pygments_lexer": "ipython3",
   "version": "3.10.6"
  },
  "orig_nbformat": 4
 },
 "nbformat": 4,
 "nbformat_minor": 2
}
